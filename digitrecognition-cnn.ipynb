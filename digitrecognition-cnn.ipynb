{
 "cells": [
  {
   "cell_type": "code",
   "execution_count": 26,
   "id": "adopted-convergence",
   "metadata": {
    "_cell_guid": "b1076dfc-b9ad-4769-8c92-a6c4dae69d19",
    "_uuid": "8f2839f25d086af736a60e9eeb907d3b93b6e0e5",
    "execution": {
     "iopub.execute_input": "2021-07-09T20:31:53.898377Z",
     "iopub.status.busy": "2021-07-09T20:31:53.897252Z",
     "iopub.status.idle": "2021-07-09T20:31:59.655332Z",
     "shell.execute_reply": "2021-07-09T20:31:59.654673Z"
    },
    "papermill": {
     "duration": 5.775999,
     "end_time": "2021-07-09T20:31:59.655515",
     "exception": false,
     "start_time": "2021-07-09T20:31:53.879516",
     "status": "completed"
    },
    "tags": []
   },
   "outputs": [
    {
     "name": "stdout",
     "output_type": "stream",
     "text": [
      "Requirement already satisfied: tensorflow in c:\\users\\acer\\anaconda3\\lib\\site-packages (2.5.0)\n",
      "Requirement already satisfied: wrapt~=1.12.1 in c:\\users\\acer\\anaconda3\\lib\\site-packages (from tensorflow) (1.12.1)\n",
      "Requirement already satisfied: gast==0.4.0 in c:\\users\\acer\\anaconda3\\lib\\site-packages (from tensorflow) (0.4.0)\n",
      "Requirement already satisfied: opt-einsum~=3.3.0 in c:\\users\\acer\\anaconda3\\lib\\site-packages (from tensorflow) (3.3.0)\n",
      "Requirement already satisfied: keras-nightly~=2.5.0.dev in c:\\users\\acer\\anaconda3\\lib\\site-packages (from tensorflow) (2.5.0.dev2021032900)\n",
      "Requirement already satisfied: six~=1.15.0 in c:\\users\\acer\\anaconda3\\lib\\site-packages (from tensorflow) (1.15.0)\n",
      "Requirement already satisfied: astunparse~=1.6.3 in c:\\users\\acer\\anaconda3\\lib\\site-packages (from tensorflow) (1.6.3)\n",
      "Requirement already satisfied: flatbuffers~=1.12.0 in c:\\users\\acer\\anaconda3\\lib\\site-packages (from tensorflow) (1.12)\n",
      "Requirement already satisfied: numpy~=1.19.2 in c:\\users\\acer\\anaconda3\\lib\\site-packages (from tensorflow) (1.19.5)\n",
      "Requirement already satisfied: grpcio~=1.34.0 in c:\\users\\acer\\anaconda3\\lib\\site-packages (from tensorflow) (1.34.1)\n",
      "Requirement already satisfied: keras-preprocessing~=1.1.2 in c:\\users\\acer\\anaconda3\\lib\\site-packages (from tensorflow) (1.1.2)\n",
      "Requirement already satisfied: google-pasta~=0.2 in c:\\users\\acer\\anaconda3\\lib\\site-packages (from tensorflow) (0.2.0)\n",
      "Requirement already satisfied: typing-extensions~=3.7.4 in c:\\users\\acer\\anaconda3\\lib\\site-packages (from tensorflow) (3.7.4.3)\n",
      "Requirement already satisfied: wheel~=0.35 in c:\\users\\acer\\anaconda3\\lib\\site-packages (from tensorflow) (0.36.2)\n",
      "Requirement already satisfied: protobuf>=3.9.2 in c:\\users\\acer\\anaconda3\\lib\\site-packages (from tensorflow) (3.17.3)\n",
      "Requirement already satisfied: termcolor~=1.1.0 in c:\\users\\acer\\anaconda3\\lib\\site-packages (from tensorflow) (1.1.0)\n",
      "Requirement already satisfied: tensorflow-estimator<2.6.0,>=2.5.0rc0 in c:\\users\\acer\\anaconda3\\lib\\site-packages (from tensorflow) (2.5.0)\n",
      "Requirement already satisfied: tensorboard~=2.5 in c:\\users\\acer\\anaconda3\\lib\\site-packages (from tensorflow) (2.5.0)\n",
      "Requirement already satisfied: absl-py~=0.10 in c:\\users\\acer\\anaconda3\\lib\\site-packages (from tensorflow) (0.13.0)\n",
      "Requirement already satisfied: h5py~=3.1.0 in c:\\users\\acer\\anaconda3\\lib\\site-packages (from tensorflow) (3.1.0)\n",
      "Requirement already satisfied: tensorboard-data-server<0.7.0,>=0.6.0 in c:\\users\\acer\\anaconda3\\lib\\site-packages (from tensorboard~=2.5->tensorflow) (0.6.1)\n",
      "Requirement already satisfied: setuptools>=41.0.0 in c:\\users\\acer\\anaconda3\\lib\\site-packages (from tensorboard~=2.5->tensorflow) (52.0.0.post20210125)\n",
      "Requirement already satisfied: tensorboard-plugin-wit>=1.6.0 in c:\\users\\acer\\anaconda3\\lib\\site-packages (from tensorboard~=2.5->tensorflow) (1.8.0)\n",
      "Requirement already satisfied: werkzeug>=0.11.15 in c:\\users\\acer\\anaconda3\\lib\\site-packages (from tensorboard~=2.5->tensorflow) (1.0.1)\n",
      "Requirement already satisfied: google-auth<2,>=1.6.3 in c:\\users\\acer\\anaconda3\\lib\\site-packages (from tensorboard~=2.5->tensorflow) (1.33.0)\n",
      "Requirement already satisfied: requests<3,>=2.21.0 in c:\\users\\acer\\anaconda3\\lib\\site-packages (from tensorboard~=2.5->tensorflow) (2.25.1)\n",
      "Requirement already satisfied: markdown>=2.6.8 in c:\\users\\acer\\anaconda3\\lib\\site-packages (from tensorboard~=2.5->tensorflow) (3.3.4)\n",
      "Requirement already satisfied: google-auth-oauthlib<0.5,>=0.4.1 in c:\\users\\acer\\anaconda3\\lib\\site-packages (from tensorboard~=2.5->tensorflow) (0.4.4)\n",
      "Requirement already satisfied: cachetools<5.0,>=2.0.0 in c:\\users\\acer\\anaconda3\\lib\\site-packages (from google-auth<2,>=1.6.3->tensorboard~=2.5->tensorflow) (4.2.2)\n",
      "Requirement already satisfied: rsa<5,>=3.1.4 in c:\\users\\acer\\anaconda3\\lib\\site-packages (from google-auth<2,>=1.6.3->tensorboard~=2.5->tensorflow) (4.7.2)\n",
      "Requirement already satisfied: pyasn1-modules>=0.2.1 in c:\\users\\acer\\anaconda3\\lib\\site-packages (from google-auth<2,>=1.6.3->tensorboard~=2.5->tensorflow) (0.2.8)\n",
      "Requirement already satisfied: requests-oauthlib>=0.7.0 in c:\\users\\acer\\anaconda3\\lib\\site-packages (from google-auth-oauthlib<0.5,>=0.4.1->tensorboard~=2.5->tensorflow) (1.3.0)\n",
      "Requirement already satisfied: pyasn1<0.5.0,>=0.4.6 in c:\\users\\acer\\anaconda3\\lib\\site-packages (from pyasn1-modules>=0.2.1->google-auth<2,>=1.6.3->tensorboard~=2.5->tensorflow) (0.4.8)\n",
      "Requirement already satisfied: idna<3,>=2.5 in c:\\users\\acer\\anaconda3\\lib\\site-packages (from requests<3,>=2.21.0->tensorboard~=2.5->tensorflow) (2.10)\n",
      "Requirement already satisfied: chardet<5,>=3.0.2 in c:\\users\\acer\\anaconda3\\lib\\site-packages (from requests<3,>=2.21.0->tensorboard~=2.5->tensorflow) (4.0.0)\n",
      "Requirement already satisfied: certifi>=2017.4.17 in c:\\users\\acer\\anaconda3\\lib\\site-packages (from requests<3,>=2.21.0->tensorboard~=2.5->tensorflow) (2020.12.5)\n",
      "Requirement already satisfied: urllib3<1.27,>=1.21.1 in c:\\users\\acer\\anaconda3\\lib\\site-packages (from requests<3,>=2.21.0->tensorboard~=2.5->tensorflow) (1.26.4)\n",
      "Requirement already satisfied: oauthlib>=3.0.0 in c:\\users\\acer\\anaconda3\\lib\\site-packages (from requests-oauthlib>=0.7.0->google-auth-oauthlib<0.5,>=0.4.1->tensorboard~=2.5->tensorflow) (3.1.1)\n"
     ]
    }
   ],
   "source": [
    "!pip install tensorflow"
   ]
  },
  {
   "cell_type": "code",
   "execution_count": 27,
   "id": "7e890ede",
   "metadata": {},
   "outputs": [],
   "source": [
    "\n",
    "import tensorflow as tf\n",
    "from tensorflow import keras\n",
    "from tensorflow.keras.layers import Input, Dense, Conv2D, MaxPool2D,  Flatten, Dropout\n",
    "from tensorflow.keras.models import Model, Sequential\n",
    "from tensorflow.keras.callbacks import EarlyStopping\n",
    "from tensorflow.keras.preprocessing.image import ImageDataGenerator\n",
    "\n",
    "import numpy as np\n",
    "import pandas as pd\n",
    "import matplotlib.pyplot as plt"
   ]
  },
  {
   "cell_type": "code",
   "execution_count": null,
   "id": "e15ef3c3",
   "metadata": {},
   "outputs": [],
   "source": []
  },
  {
   "cell_type": "code",
   "execution_count": null,
   "id": "4083ab2a",
   "metadata": {},
   "outputs": [],
   "source": []
  },
  {
   "cell_type": "code",
   "execution_count": 28,
   "id": "another-buyer",
   "metadata": {
    "execution": {
     "iopub.execute_input": "2021-07-09T20:31:59.687786Z",
     "iopub.status.busy": "2021-07-09T20:31:59.686996Z",
     "iopub.status.idle": "2021-07-09T20:31:59.692371Z",
     "shell.execute_reply": "2021-07-09T20:31:59.691886Z"
    },
    "papermill": {
     "duration": 0.023291,
     "end_time": "2021-07-09T20:31:59.692508",
     "exception": false,
     "start_time": "2021-07-09T20:31:59.669217",
     "status": "completed"
    },
    "tags": []
   },
   "outputs": [],
   "source": [
    "import os\n",
    "for dirname, _, filenames in os.walk('/kaggle/input'):\n",
    "    for filename in filenames:\n",
    "        print(os.path.join(dirname, filename))\n"
   ]
  },
  {
   "cell_type": "code",
   "execution_count": 40,
   "id": "narrative-cloud",
   "metadata": {
    "execution": {
     "iopub.execute_input": "2021-07-09T20:31:59.725766Z",
     "iopub.status.busy": "2021-07-09T20:31:59.725140Z",
     "iopub.status.idle": "2021-07-09T20:32:05.804840Z",
     "shell.execute_reply": "2021-07-09T20:32:05.803931Z"
    },
    "papermill": {
     "duration": 6.098101,
     "end_time": "2021-07-09T20:32:05.804988",
     "exception": false,
     "start_time": "2021-07-09T20:31:59.706887",
     "status": "completed"
    },
    "tags": []
   },
   "outputs": [],
   "source": [
    "train = pd.read_csv('C:/Users/ACER/Desktop/Digit/train.csv')\n",
    "test = pd.read_csv('C:/Users/ACER/Desktop/Digit/test.csv')"
   ]
  },
  {
   "cell_type": "code",
   "execution_count": 41,
   "id": "interpreted-forward",
   "metadata": {
    "execution": {
     "iopub.execute_input": "2021-07-09T20:32:05.838299Z",
     "iopub.status.busy": "2021-07-09T20:32:05.837632Z",
     "iopub.status.idle": "2021-07-09T20:32:05.944210Z",
     "shell.execute_reply": "2021-07-09T20:32:05.943623Z"
    },
    "papermill": {
     "duration": 0.125337,
     "end_time": "2021-07-09T20:32:05.944356",
     "exception": false,
     "start_time": "2021-07-09T20:32:05.819019",
     "status": "completed"
    },
    "tags": []
   },
   "outputs": [],
   "source": [
    "test = np.array(test, dtype=np.float32)/255\n",
    "test = test.reshape(-1,28,28,1)"
   ]
  },
  {
   "cell_type": "code",
   "execution_count": 31,
   "id": "convinced-jones",
   "metadata": {
    "execution": {
     "iopub.execute_input": "2021-07-09T20:32:05.986597Z",
     "iopub.status.busy": "2021-07-09T20:32:05.985912Z",
     "iopub.status.idle": "2021-07-09T20:32:06.071328Z",
     "shell.execute_reply": "2021-07-09T20:32:06.070757Z"
    },
    "papermill": {
     "duration": 0.112884,
     "end_time": "2021-07-09T20:32:06.071519",
     "exception": false,
     "start_time": "2021-07-09T20:32:05.958635",
     "status": "completed"
    },
    "tags": []
   },
   "outputs": [],
   "source": [
    "x_train = train.drop(['label'], axis=1)\n",
    "y_train = train['label']"
   ]
  },
  {
   "cell_type": "code",
   "execution_count": 32,
   "id": "grave-worth",
   "metadata": {
    "execution": {
     "iopub.execute_input": "2021-07-09T20:32:06.105371Z",
     "iopub.status.busy": "2021-07-09T20:32:06.104723Z",
     "iopub.status.idle": "2021-07-09T20:32:06.108600Z",
     "shell.execute_reply": "2021-07-09T20:32:06.108025Z"
    },
    "papermill": {
     "duration": 0.022718,
     "end_time": "2021-07-09T20:32:06.108774",
     "exception": false,
     "start_time": "2021-07-09T20:32:06.086056",
     "status": "completed"
    },
    "tags": []
   },
   "outputs": [],
   "source": [
    "y_train = keras.utils.to_categorical(y_train,num_classes=10)"
   ]
  },
  {
   "cell_type": "code",
   "execution_count": 33,
   "id": "alert-abuse",
   "metadata": {
    "execution": {
     "iopub.execute_input": "2021-07-09T20:32:06.142780Z",
     "iopub.status.busy": "2021-07-09T20:32:06.142105Z",
     "iopub.status.idle": "2021-07-09T20:32:06.308039Z",
     "shell.execute_reply": "2021-07-09T20:32:06.307466Z"
    },
    "papermill": {
     "duration": 0.184795,
     "end_time": "2021-07-09T20:32:06.308179",
     "exception": false,
     "start_time": "2021-07-09T20:32:06.123384",
     "status": "completed"
    },
    "tags": []
   },
   "outputs": [],
   "source": [
    "x_train = np.array(x_train, dtype=np.float32)/255.0"
   ]
  },
  {
   "cell_type": "code",
   "execution_count": 34,
   "id": "handmade-yukon",
   "metadata": {
    "execution": {
     "iopub.execute_input": "2021-07-09T20:32:06.357393Z",
     "iopub.status.busy": "2021-07-09T20:32:06.348543Z",
     "iopub.status.idle": "2021-07-09T20:32:06.501571Z",
     "shell.execute_reply": "2021-07-09T20:32:06.500374Z"
    },
    "papermill": {
     "duration": 0.178936,
     "end_time": "2021-07-09T20:32:06.501821",
     "exception": false,
     "start_time": "2021-07-09T20:32:06.322885",
     "status": "completed"
    },
    "tags": []
   },
   "outputs": [
    {
     "name": "stdout",
     "output_type": "stream",
     "text": [
      "[0. 0. 0. 0. 1. 0. 0. 0. 0. 0.]\n"
     ]
    },
    {
     "data": {
      "image/png": "[encoded data removed]",
      "text/plain": [
       "<Figure size 432x288 with 1 Axes>"
      ]
     },
     "metadata": {
      "needs_background": "light"
     },
     "output_type": "display_data"
    }
   ],
   "source": [
    "x_train = x_train.reshape(-1,28,28,1)\n",
    "plt.imshow(x_train[3], cmap='gray')\n",
    "print(y_train[3])"
   ]
  },
  {
   "cell_type": "code",
   "execution_count": 35,
   "id": "liquid-delicious",
   "metadata": {
    "execution": {
     "iopub.execute_input": "2021-07-09T20:32:06.556402Z",
     "iopub.status.busy": "2021-07-09T20:32:06.555325Z",
     "iopub.status.idle": "2021-07-09T20:32:06.558094Z",
     "shell.execute_reply": "2021-07-09T20:32:06.557266Z"
    },
    "papermill": {
     "duration": 0.034026,
     "end_time": "2021-07-09T20:32:06.558283",
     "exception": false,
     "start_time": "2021-07-09T20:32:06.524257",
     "status": "completed"
    },
    "tags": []
   },
   "outputs": [],
   "source": [
    "datagen = ImageDataGenerator(rotation_range=20,\n",
    "                  width_shift_range=0.2,\n",
    "                  height_shift_range=0.2,\n",
    "                  shear_range=0.2,\n",
    "                  horizontal_flip=False)\n",
    "generator  = datagen.flow(x_train,y_train,batch_size=128)"
   ]
  },
  {
   "cell_type": "code",
   "execution_count": 36,
   "id": "fuzzy-province",
   "metadata": {
    "execution": {
     "iopub.execute_input": "2021-07-09T20:32:06.599834Z",
     "iopub.status.busy": "2021-07-09T20:32:06.599206Z",
     "iopub.status.idle": "2021-07-09T20:32:06.731456Z",
     "shell.execute_reply": "2021-07-09T20:32:06.731956Z"
    },
    "papermill": {
     "duration": 0.156275,
     "end_time": "2021-07-09T20:32:06.732175",
     "exception": false,
     "start_time": "2021-07-09T20:32:06.575900",
     "status": "completed"
    },
    "tags": []
   },
   "outputs": [],
   "source": [
    "input_shape = (28,28,1)\n",
    "input_layer = Input(input_shape)\n",
    "layer = Conv2D(16,(3,3),activation = tf.nn.relu, input_shape = input_shape, padding='same')(input_layer)\n",
    "layer = MaxPool2D((2,2))(layer)\n",
    "layer = Conv2D(32,(3,3),activation = tf.nn.relu, padding='same')(layer)\n",
    "layer = MaxPool2D((2,2))(layer)\n",
    "layer = Conv2D(64,(3,3),activation = tf.nn.relu, padding='same')(layer)\n",
    "layer = MaxPool2D((2,2))(layer)\n",
    "\n",
    "flatten = Flatten()(layer)\n",
    "\n",
    "layer = Dense(768,activation = tf.nn.relu)(flatten)\n",
    "dropout = Dropout(0.2)(layer)\n",
    "output_layer = Dense(10, activation = tf.nn.sigmoid)(dropout)\n",
    "model = Model(input_layer,output_layer)"
   ]
  },
  {
   "cell_type": "code",
   "execution_count": 37,
   "id": "formal-parker",
   "metadata": {
    "execution": {
     "iopub.execute_input": "2021-07-09T20:32:06.767275Z",
     "iopub.status.busy": "2021-07-09T20:32:06.766623Z",
     "iopub.status.idle": "2021-07-09T20:32:06.777725Z",
     "shell.execute_reply": "2021-07-09T20:32:06.776900Z"
    },
    "papermill": {
     "duration": 0.0297,
     "end_time": "2021-07-09T20:32:06.777903",
     "exception": false,
     "start_time": "2021-07-09T20:32:06.748203",
     "status": "completed"
    },
    "tags": []
   },
   "outputs": [
    {
     "name": "stdout",
     "output_type": "stream",
     "text": [
      "Model: \"model_1\"\n",
      "_________________________________________________________________\n",
      "Layer (type)                 Output Shape              Param #   \n",
      "=================================================================\n",
      "input_2 (InputLayer)         [(None, 28, 28, 1)]       0         \n",
      "_________________________________________________________________\n",
      "conv2d_3 (Conv2D)            (None, 28, 28, 16)        160       \n",
      "_________________________________________________________________\n",
      "max_pooling2d_3 (MaxPooling2 (None, 14, 14, 16)        0         \n",
      "_________________________________________________________________\n",
      "conv2d_4 (Conv2D)            (None, 14, 14, 32)        4640      \n",
      "_________________________________________________________________\n",
      "max_pooling2d_4 (MaxPooling2 (None, 7, 7, 32)          0         \n",
      "_________________________________________________________________\n",
      "conv2d_5 (Conv2D)            (None, 7, 7, 64)          18496     \n",
      "_________________________________________________________________\n",
      "max_pooling2d_5 (MaxPooling2 (None, 3, 3, 64)          0         \n",
      "_________________________________________________________________\n",
      "flatten_1 (Flatten)          (None, 576)               0         \n",
      "_________________________________________________________________\n",
      "dense_2 (Dense)              (None, 768)               443136    \n",
      "_________________________________________________________________\n",
      "dropout_1 (Dropout)          (None, 768)               0         \n",
      "_________________________________________________________________\n",
      "dense_3 (Dense)              (None, 10)                7690      \n",
      "=================================================================\n",
      "Total params: 474,122\n",
      "Trainable params: 474,122\n",
      "Non-trainable params: 0\n",
      "_________________________________________________________________\n"
     ]
    }
   ],
   "source": [
    "model.summary()"
   ]
  },
  {
   "cell_type": "code",
   "execution_count": 38,
   "id": "equivalent-comparative",
   "metadata": {
    "execution": {
     "iopub.execute_input": "2021-07-09T20:32:06.824578Z",
     "iopub.status.busy": "2021-07-09T20:32:06.823582Z",
     "iopub.status.idle": "2021-07-09T20:32:06.830475Z",
     "shell.execute_reply": "2021-07-09T20:32:06.829864Z"
    },
    "papermill": {
     "duration": 0.035789,
     "end_time": "2021-07-09T20:32:06.830609",
     "exception": false,
     "start_time": "2021-07-09T20:32:06.794820",
     "status": "completed"
    },
    "tags": []
   },
   "outputs": [],
   "source": [
    "model.compile(optimizer='Adam', loss = 'categorical_crossentropy', metrics = ['accuracy'])\n",
    "early_stop = EarlyStopping(monitor='loss', patience=50, mode='min', restore_best_weights=True)"
   ]
  },
  {
   "cell_type": "code",
   "execution_count": 39,
   "id": "current-fleet",
   "metadata": {
    "execution": {
     "iopub.execute_input": "2021-07-09T20:32:06.868858Z",
     "iopub.status.busy": "2021-07-09T20:32:06.868150Z",
     "iopub.status.idle": "2021-07-09T20:54:02.506085Z",
     "shell.execute_reply": "2021-07-09T20:54:02.505441Z"
    },
    "papermill": {
     "duration": 1315.658887,
     "end_time": "2021-07-09T20:54:02.506239",
     "exception": false,
     "start_time": "2021-07-09T20:32:06.847352",
     "status": "completed"
    },
    "tags": []
   },
   "outputs": [
    {
     "name": "stdout",
     "output_type": "stream",
     "text": [
      "Epoch 1/60\n",
      "329/329 [==============================] - 21s 63ms/step - loss: 0.6889 - accuracy: 0.7703\n",
      "Epoch 2/60\n",
      "329/329 [==============================] - 21s 65ms/step - loss: 0.2130 - accuracy: 0.9340\n",
      "Epoch 3/60\n",
      "329/329 [==============================] - 22s 67ms/step - loss: 0.1533 - accuracy: 0.9533\n",
      "Epoch 4/60\n",
      "329/329 [==============================] - 23s 69ms/step - loss: 0.1153 - accuracy: 0.9647\n",
      "Epoch 5/60\n",
      "329/329 [==============================] - 22s 66ms/step - loss: 0.1008 - accuracy: 0.9688\n",
      "Epoch 6/60\n",
      "329/329 [==============================] - 21s 64ms/step - loss: 0.0879 - accuracy: 0.9720\n",
      "Epoch 7/60\n",
      "329/329 [==============================] - 22s 67ms/step - loss: 0.0800 - accuracy: 0.9752\n",
      "Epoch 8/60\n",
      "329/329 [==============================] - 24s 72ms/step - loss: 0.0674 - accuracy: 0.9794\n",
      "Epoch 9/60\n",
      "329/329 [==============================] - 25s 76ms/step - loss: 0.0680 - accuracy: 0.9774\n",
      "Epoch 10/60\n",
      "329/329 [==============================] - 22s 66ms/step - loss: 0.0651 - accuracy: 0.9794\n",
      "Epoch 11/60\n",
      "329/329 [==============================] - 26s 78ms/step - loss: 0.0606 - accuracy: 0.9814\n",
      "Epoch 12/60\n",
      "329/329 [==============================] - 23s 69ms/step - loss: 0.0563 - accuracy: 0.9825\n",
      "Epoch 13/60\n",
      "329/329 [==============================] - 25s 77ms/step - loss: 0.0538 - accuracy: 0.9832\n",
      "Epoch 14/60\n",
      "329/329 [==============================] - 24s 72ms/step - loss: 0.0526 - accuracy: 0.9835\n",
      "Epoch 15/60\n",
      "329/329 [==============================] - 22s 66ms/step - loss: 0.0488 - accuracy: 0.9847\n",
      "Epoch 16/60\n",
      "329/329 [==============================] - 22s 65ms/step - loss: 0.0486 - accuracy: 0.9848\n",
      "Epoch 17/60\n",
      "329/329 [==============================] - 22s 66ms/step - loss: 0.0447 - accuracy: 0.9864\n",
      "Epoch 18/60\n",
      "329/329 [==============================] - 23s 71ms/step - loss: 0.0438 - accuracy: 0.9855\n",
      "Epoch 19/60\n",
      "329/329 [==============================] - 22s 66ms/step - loss: 0.0447 - accuracy: 0.9862\n",
      "Epoch 20/60\n",
      "329/329 [==============================] - 24s 73ms/step - loss: 0.0456 - accuracy: 0.9860\n",
      "Epoch 21/60\n",
      "329/329 [==============================] - 24s 72ms/step - loss: 0.0411 - accuracy: 0.9875\n",
      "Epoch 22/60\n",
      "329/329 [==============================] - 21s 63ms/step - loss: 0.0381 - accuracy: 0.9879\n",
      "Epoch 23/60\n",
      "329/329 [==============================] - 23s 70ms/step - loss: 0.0378 - accuracy: 0.9885\n",
      "Epoch 24/60\n",
      "329/329 [==============================] - 23s 70ms/step - loss: 0.0392 - accuracy: 0.9875\n",
      "Epoch 25/60\n",
      "329/329 [==============================] - 24s 72ms/step - loss: 0.0401 - accuracy: 0.9874\n",
      "Epoch 26/60\n",
      "329/329 [==============================] - 23s 70ms/step - loss: 0.0372 - accuracy: 0.9887\n",
      "Epoch 27/60\n",
      "329/329 [==============================] - 24s 73ms/step - loss: 0.0358 - accuracy: 0.9883\n",
      "Epoch 28/60\n",
      "329/329 [==============================] - 22s 66ms/step - loss: 0.0355 - accuracy: 0.9890\n",
      "Epoch 29/60\n",
      "329/329 [==============================] - 22s 66ms/step - loss: 0.0342 - accuracy: 0.9897\n",
      "Epoch 30/60\n",
      "329/329 [==============================] - 25s 76ms/step - loss: 0.0340 - accuracy: 0.9894\n",
      "Epoch 31/60\n",
      "329/329 [==============================] - 23s 69ms/step - loss: 0.0331 - accuracy: 0.9897\n",
      "Epoch 32/60\n",
      "329/329 [==============================] - 24s 72ms/step - loss: 0.0317 - accuracy: 0.9899\n",
      "Epoch 33/60\n",
      "329/329 [==============================] - 22s 67ms/step - loss: 0.0326 - accuracy: 0.9899\n",
      "Epoch 34/60\n",
      "329/329 [==============================] - 25s 76ms/step - loss: 0.0310 - accuracy: 0.9902\n",
      "Epoch 35/60\n",
      "329/329 [==============================] - 27s 81ms/step - loss: 0.0298 - accuracy: 0.9904\n",
      "Epoch 36/60\n",
      "329/329 [==============================] - 25s 77ms/step - loss: 0.0300 - accuracy: 0.9909\n",
      "Epoch 37/60\n",
      "329/329 [==============================] - 24s 72ms/step - loss: 0.0298 - accuracy: 0.9908\n",
      "Epoch 38/60\n",
      "329/329 [==============================] - 25s 77ms/step - loss: 0.0292 - accuracy: 0.9909\n",
      "Epoch 39/60\n",
      "329/329 [==============================] - 23s 69ms/step - loss: 0.0293 - accuracy: 0.9910\n",
      "Epoch 40/60\n",
      "329/329 [==============================] - 24s 72ms/step - loss: 0.0271 - accuracy: 0.9909\n",
      "Epoch 41/60\n",
      "329/329 [==============================] - 21s 64ms/step - loss: 0.0283 - accuracy: 0.9910\n",
      "Epoch 42/60\n",
      "329/329 [==============================] - 25s 75ms/step - loss: 0.0267 - accuracy: 0.9911\n",
      "Epoch 43/60\n",
      "329/329 [==============================] - 22s 66ms/step - loss: 0.0280 - accuracy: 0.9912\n",
      "Epoch 44/60\n",
      "329/329 [==============================] - 21s 65ms/step - loss: 0.0250 - accuracy: 0.9918\n",
      "Epoch 45/60\n",
      "329/329 [==============================] - 22s 68ms/step - loss: 0.0256 - accuracy: 0.9916\n",
      "Epoch 46/60\n",
      "329/329 [==============================] - 20s 59ms/step - loss: 0.0252 - accuracy: 0.9919\n",
      "Epoch 47/60\n",
      "329/329 [==============================] - 20s 60ms/step - loss: 0.0254 - accuracy: 0.9915\n",
      "Epoch 48/60\n",
      "329/329 [==============================] - 22s 67ms/step - loss: 0.0267 - accuracy: 0.9922\n",
      "Epoch 49/60\n",
      "329/329 [==============================] - 22s 66ms/step - loss: 0.0252 - accuracy: 0.9927\n",
      "Epoch 50/60\n",
      "329/329 [==============================] - 22s 65ms/step - loss: 0.0239 - accuracy: 0.99300s - loss: 0.0\n",
      "Epoch 51/60\n",
      "329/329 [==============================] - 20s 61ms/step - loss: 0.0228 - accuracy: 0.9928\n",
      "Epoch 52/60\n",
      "329/329 [==============================] - 20s 60ms/step - loss: 0.0229 - accuracy: 0.9926\n",
      "Epoch 53/60\n",
      "329/329 [==============================] - 20s 61ms/step - loss: 0.0238 - accuracy: 0.9926\n",
      "Epoch 54/60\n",
      "329/329 [==============================] - 22s 67ms/step - loss: 0.0250 - accuracy: 0.9921\n",
      "Epoch 55/60\n",
      "329/329 [==============================] - 20s 60ms/step - loss: 0.0222 - accuracy: 0.9933\n",
      "Epoch 56/60\n",
      "329/329 [==============================] - 21s 64ms/step - loss: 0.0224 - accuracy: 0.9927\n",
      "Epoch 57/60\n",
      "329/329 [==============================] - 20s 61ms/step - loss: 0.0231 - accuracy: 0.9926\n",
      "Epoch 58/60\n",
      "329/329 [==============================] - 20s 61ms/step - loss: 0.0238 - accuracy: 0.9925\n",
      "Epoch 59/60\n",
      "329/329 [==============================] - 20s 61ms/step - loss: 0.0207 - accuracy: 0.9933\n",
      "Epoch 60/60\n",
      "329/329 [==============================] - 21s 64ms/step - loss: 0.0232 - accuracy: 0.9929\n"
     ]
    }
   ],
   "source": [
    "epoch = 60\n",
    "model_hist = model.fit(generator,epochs=epoch, batch_size=128,callbacks=[early_stop],verbose=1)"
   ]
  },
  {
   "cell_type": "code",
   "execution_count": 42,
   "id": "cosmetic-highway",
   "metadata": {
    "execution": {
     "iopub.execute_input": "2021-07-09T20:54:14.688426Z",
     "iopub.status.busy": "2021-07-09T20:54:14.687471Z",
     "iopub.status.idle": "2021-07-09T20:54:22.924096Z",
     "shell.execute_reply": "2021-07-09T20:54:22.924550Z"
    },
    "papermill": {
     "duration": 14.350166,
     "end_time": "2021-07-09T20:54:22.924756",
     "exception": false,
     "start_time": "2021-07-09T20:54:08.574590",
     "status": "completed"
    },
    "tags": []
   },
   "outputs": [
    {
     "name": "stdout",
     "output_type": "stream",
     "text": [
      "1313/1313 [==============================] - 6s 5ms/step - loss: 0.0109 - accuracy: 0.9962\n"
     ]
    },
    {
     "data": {
      "text/plain": [
       "[0.010878794826567173, 0.9962142705917358]"
      ]
     },
     "execution_count": 42,
     "metadata": {},
     "output_type": "execute_result"
    }
   ],
   "source": [
    "model.evaluate(x_train,y_train)"
   ]
  },
  {
   "cell_type": "code",
   "execution_count": 43,
   "id": "nutritional-subdivision",
   "metadata": {
    "execution": {
     "iopub.execute_input": "2021-07-09T20:54:35.094265Z",
     "iopub.status.busy": "2021-07-09T20:54:35.093242Z",
     "iopub.status.idle": "2021-07-09T20:54:35.096394Z",
     "shell.execute_reply": "2021-07-09T20:54:35.095880Z"
    },
    "papermill": {
     "duration": 6.038214,
     "end_time": "2021-07-09T20:54:35.096543",
     "exception": false,
     "start_time": "2021-07-09T20:54:29.058329",
     "status": "completed"
    },
    "tags": []
   },
   "outputs": [],
   "source": [
    "x = np.arange(1, epoch + 1)\n",
    "train_acc = model_hist.history['accuracy']\n",
    "train_loss = model_hist.history['loss']"
   ]
  },
  {
   "cell_type": "code",
   "execution_count": 51,
   "id": "essential-seeking",
   "metadata": {
    "execution": {
     "iopub.execute_input": "2021-07-09T20:54:47.406140Z",
     "iopub.status.busy": "2021-07-09T20:54:47.405150Z",
     "iopub.status.idle": "2021-07-09T20:54:47.852378Z",
     "shell.execute_reply": "2021-07-09T20:54:47.851807Z"
    },
    "papermill": {
     "duration": 6.638417,
     "end_time": "2021-07-09T20:54:47.852542",
     "exception": false,
     "start_time": "2021-07-09T20:54:41.214125",
     "status": "completed"
    },
    "tags": []
   },
   "outputs": [
    {
     "data": {
      "image/png": "[encoded data removed]",
      "text/plain": [
       "<Figure size 432x288 with 1 Axes>"
      ]
     },
     "metadata": {
      "needs_background": "light"
     },
     "output_type": "display_data"
    },
    {
     "data": {
      "image/png": "[encoded data removed]",
      "text/plain": [
       "<Figure size 432x288 with 1 Axes>"
      ]
     },
     "metadata": {
      "needs_background": "light"
     },
     "output_type": "display_data"
    }
   ],
   "source": [
    "plt.plot(x , train_acc, label='Training accuracy')\n",
    "plt.title('Training accuracy')\n",
    "plt.legend()\n",
    "plt.show()\n",
    "plt.plot(x , train_loss, label='Training loss')\n",
    "plt.title('Training loss')\n",
    "plt.legend()\n",
    "plt.show()\n"
   ]
  },
  {
   "cell_type": "code",
   "execution_count": 52,
   "id": "hazardous-grace",
   "metadata": {
    "execution": {
     "iopub.execute_input": "2021-07-09T20:55:00.094217Z",
     "iopub.status.busy": "2021-07-09T20:55:00.093559Z",
     "iopub.status.idle": "2021-07-09T20:55:04.992077Z",
     "shell.execute_reply": "2021-07-09T20:55:04.991499Z"
    },
    "papermill": {
     "duration": 10.9675,
     "end_time": "2021-07-09T20:55:04.992232",
     "exception": false,
     "start_time": "2021-07-09T20:54:54.024732",
     "status": "completed"
    },
    "tags": []
   },
   "outputs": [],
   "source": [
    "prediction = model.predict(test)"
   ]
  },
  {
   "cell_type": "code",
   "execution_count": 53,
   "id": "virtual-modem",
   "metadata": {
    "execution": {
     "iopub.execute_input": "2021-07-09T20:55:17.169832Z",
     "iopub.status.busy": "2021-07-09T20:55:17.169166Z",
     "iopub.status.idle": "2021-07-09T20:55:17.302573Z",
     "shell.execute_reply": "2021-07-09T20:55:17.301937Z"
    },
    "papermill": {
     "duration": 6.227339,
     "end_time": "2021-07-09T20:55:17.302758",
     "exception": false,
     "start_time": "2021-07-09T20:55:11.075419",
     "status": "completed"
    },
    "tags": []
   },
   "outputs": [],
   "source": [
    "predict = np.array(np.round(prediction), dtype = np.int32)\n",
    "predict = np.argmax(predict , axis=1).reshape(-1, 1)\n",
    "out = [{'ImageId': i+1, 'Label': predict[i][0]} for i in range(len(predict))]\n",
    "pd.DataFrame(out).to_csv('submission.csv', index=False)"
   ]
  },
  {
   "cell_type": "code",
   "execution_count": null,
   "id": "aware-greensboro",
   "metadata": {
    "papermill": {
     "duration": 6.105336,
     "end_time": "2021-07-09T20:55:29.508645",
     "exception": false,
     "start_time": "2021-07-09T20:55:23.403309",
     "status": "completed"
    },
    "tags": []
   },
   "outputs": [],
   "source": []
  },
  {
   "cell_type": "code",
   "execution_count": null,
   "id": "aba68658",
   "metadata": {},
   "outputs": [],
   "source": []
  }
 ],
 "metadata": {
  "kernelspec": {
   "display_name": "Python 3",
   "language": "python",
   "name": "python3"
  },
  "language_info": {
   "codemirror_mode": {
    "name": "ipython",
    "version": 3
   },
   "file_extension": ".py",
   "mimetype": "text/x-python",
   "name": "python",
   "nbconvert_exporter": "python",
   "pygments_lexer": "ipython3",
   "version": "3.8.8"
  },
  "papermill": {
   "default_parameters": {},
   "duration": 1431.027387,
   "end_time": "2021-07-09T20:55:36.813191",
   "environment_variables": {},
   "exception": null,
   "input_path": "__notebook__.ipynb",
   "output_path": "__notebook__.ipynb",
   "parameters": {},
   "start_time": "2021-07-09T20:31:45.785804",
   "version": "2.3.3"
  }
 },
 "nbformat": 4,
 "nbformat_minor": 5
}
